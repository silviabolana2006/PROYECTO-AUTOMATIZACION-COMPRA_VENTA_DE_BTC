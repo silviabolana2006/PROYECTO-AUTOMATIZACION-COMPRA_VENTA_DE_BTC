{
 "cells": [
  {
   "cell_type": "markdown",
   "id": "0264059f-08de-4830-8a81-83702abf64f3",
   "metadata": {
    "editable": true,
    "scrolled": true,
    "slideshow": {
     "slide_type": ""
    },
    "tags": []
   },
   "source": [
    "## Importamos las bibliotecas necesarias"
   ]
  },
  {
   "cell_type": "code",
   "execution_count": 2,
   "id": "8275b298-9359-4095-8e97-582a26e0a4da",
   "metadata": {
    "editable": true,
    "scrolled": true,
    "slideshow": {
     "slide_type": ""
    },
    "tags": []
   },
   "outputs": [],
   "source": [
    "import pandas as pd\n",
    "import numpy as np    \n",
    "from sklearn.model_selection import train_test_split\n",
    "from sklearn.linear_model import LinearRegression\n",
    "from sklearn.metrics import mean_squared_error, r2_score"
   ]
  },
  {
   "cell_type": "markdown",
   "id": "73eb9edc-e864-4cb8-b142-2fb4f5b0c6bf",
   "metadata": {
    "editable": true,
    "slideshow": {
     "slide_type": ""
    },
    "tags": []
   },
   "source": [
    "### Leemos los datos históricos de BTC desde un archivo CSV "
   ]
  },
  {
   "cell_type": "markdown",
   "id": "e12ae610",
   "metadata": {},
   "source": [
    "se muetran las primeras 5 filas"
   ]
  },
  {
   "cell_type": "code",
   "execution_count": 3,
   "id": "0b349875",
   "metadata": {},
   "outputs": [
    {
     "name": "stdout",
     "output_type": "stream",
     "text": [
      "     Fecha  Precio_Apertura  Precio_Máximo  Precio_Mínimo  Precio_Cierre  \\\n",
      "0  21/3/16        413417999      413417999      410381012      413307007   \n",
      "1  22/3/16        413131989      418375000      412531006      418088989   \n",
      "2  23/3/16        418161011      419268005      417364014      418040985   \n",
      "3  24/3/16        418424011      418679993      415485992      416394012   \n",
      "4  25/3/16        416507996      418079987      415558014      417177002   \n",
      "\n",
      "    Volumen  \n",
      "0  61655400  \n",
      "1  66813300  \n",
      "2  61444200  \n",
      "3  68346704  \n",
      "4  52560000  \n"
     ]
    }
   ],
   "source": [
    "import pandas as pd\n",
    "\n",
    "\n",
    "\n",
    "# Ruta hacia el archivo CSV\n",
    "ruta_archivo = \"C:/Users/SILCA/OneDrive/Escritorio/dataset/BTC-USD.csv\"\n",
    "\n",
    "# Cargar los datos en un DataFrame\n",
    "df = pd.read_csv(ruta_archivo)\n",
    "\n",
    "print(df.head())"
   ]
  },
  {
   "cell_type": "markdown",
   "id": "78d5565c",
   "metadata": {},
   "source": [
    "### imprimimos el Dataframe"
   ]
  },
  {
   "cell_type": "code",
   "execution_count": 4,
   "id": "810f1c2e",
   "metadata": {},
   "outputs": [
    {
     "name": "stdout",
     "output_type": "stream",
     "text": [
      "        Fecha  Precio_Apertura  Precio_Máximo  Precio_Mínimo  Precio_Cierre  \\\n",
      "0     21/3/16        413417999      413417999      410381012      413307007   \n",
      "1     22/3/16        413131989      418375000      412531006      418088989   \n",
      "2     23/3/16        418161011      419268005      417364014      418040985   \n",
      "3     24/3/16        418424011      418679993      415485992      416394012   \n",
      "4     25/3/16        416507996      418079987      415558014      417177002   \n",
      "...       ...              ...            ...            ...            ...   \n",
      "2855  16/1/24      42499335938    43566273438    42085996094    43154945313   \n",
      "2856  17/1/24      43132101563    43189890625    42189308594    42742652344   \n",
      "2857  18/1/24      42742312500    42876347656    40631171875    41262058594   \n",
      "2858  19/1/24      41278460938    42134160156    40297457031    41618406250   \n",
      "2859  21/1/24      41671488281    41693160156    41615140625    41623695313   \n",
      "\n",
      "          Volumen  \n",
      "0        61655400  \n",
      "1        66813300  \n",
      "2        61444200  \n",
      "3        68346704  \n",
      "4        52560000  \n",
      "...           ...  \n",
      "2855  24062872740  \n",
      "2856  20851232595  \n",
      "2857  25218357242  \n",
      "2858  25752407154  \n",
      "2859  11274039296  \n",
      "\n",
      "[2860 rows x 6 columns]\n"
     ]
    }
   ],
   "source": [
    "import pandas as pd\n",
    "from sklearn.model_selection import train_test_split\n",
    "from sklearn.linear_model import LinearRegression\n",
    "\n",
    "\n",
    "# Ruta hacia el archivo CSV\n",
    "ruta_archivo = \"C:/Users/SILCA/OneDrive/Escritorio/dataset/BTC-USD.csv\"\n",
    "\n",
    "# Cargar los datos en un DataFrame\n",
    "df = pd.read_csv(ruta_archivo)\n",
    "print(df)"
   ]
  },
  {
   "cell_type": "markdown",
   "id": "ddca7f67",
   "metadata": {},
   "source": [
    "### Verificamos que los datos se hayan cargado correctamente para mostrar las primeras filas del DataFrame."
   ]
  },
  {
   "cell_type": "code",
   "execution_count": 5,
   "id": "f2303d9b",
   "metadata": {},
   "outputs": [
    {
     "data": {
      "text/html": [
       "<div>\n",
       "<style scoped>\n",
       "    .dataframe tbody tr th:only-of-type {\n",
       "        vertical-align: middle;\n",
       "    }\n",
       "\n",
       "    .dataframe tbody tr th {\n",
       "        vertical-align: top;\n",
       "    }\n",
       "\n",
       "    .dataframe thead th {\n",
       "        text-align: right;\n",
       "    }\n",
       "</style>\n",
       "<table border=\"1\" class=\"dataframe\">\n",
       "  <thead>\n",
       "    <tr style=\"text-align: right;\">\n",
       "      <th></th>\n",
       "      <th>Fecha</th>\n",
       "      <th>Precio_Apertura</th>\n",
       "      <th>Precio_Máximo</th>\n",
       "      <th>Precio_Mínimo</th>\n",
       "      <th>Precio_Cierre</th>\n",
       "      <th>Volumen</th>\n",
       "    </tr>\n",
       "  </thead>\n",
       "  <tbody>\n",
       "    <tr>\n",
       "      <th>0</th>\n",
       "      <td>21/3/16</td>\n",
       "      <td>413417999</td>\n",
       "      <td>413417999</td>\n",
       "      <td>410381012</td>\n",
       "      <td>413307007</td>\n",
       "      <td>61655400</td>\n",
       "    </tr>\n",
       "    <tr>\n",
       "      <th>1</th>\n",
       "      <td>22/3/16</td>\n",
       "      <td>413131989</td>\n",
       "      <td>418375000</td>\n",
       "      <td>412531006</td>\n",
       "      <td>418088989</td>\n",
       "      <td>66813300</td>\n",
       "    </tr>\n",
       "    <tr>\n",
       "      <th>2</th>\n",
       "      <td>23/3/16</td>\n",
       "      <td>418161011</td>\n",
       "      <td>419268005</td>\n",
       "      <td>417364014</td>\n",
       "      <td>418040985</td>\n",
       "      <td>61444200</td>\n",
       "    </tr>\n",
       "    <tr>\n",
       "      <th>3</th>\n",
       "      <td>24/3/16</td>\n",
       "      <td>418424011</td>\n",
       "      <td>418679993</td>\n",
       "      <td>415485992</td>\n",
       "      <td>416394012</td>\n",
       "      <td>68346704</td>\n",
       "    </tr>\n",
       "    <tr>\n",
       "      <th>4</th>\n",
       "      <td>25/3/16</td>\n",
       "      <td>416507996</td>\n",
       "      <td>418079987</td>\n",
       "      <td>415558014</td>\n",
       "      <td>417177002</td>\n",
       "      <td>52560000</td>\n",
       "    </tr>\n",
       "  </tbody>\n",
       "</table>\n",
       "</div>"
      ],
      "text/plain": [
       "     Fecha  Precio_Apertura  Precio_Máximo  Precio_Mínimo  Precio_Cierre  \\\n",
       "0  21/3/16        413417999      413417999      410381012      413307007   \n",
       "1  22/3/16        413131989      418375000      412531006      418088989   \n",
       "2  23/3/16        418161011      419268005      417364014      418040985   \n",
       "3  24/3/16        418424011      418679993      415485992      416394012   \n",
       "4  25/3/16        416507996      418079987      415558014      417177002   \n",
       "\n",
       "    Volumen  \n",
       "0  61655400  \n",
       "1  66813300  \n",
       "2  61444200  \n",
       "3  68346704  \n",
       "4  52560000  "
      ]
     },
     "execution_count": 5,
     "metadata": {},
     "output_type": "execute_result"
    }
   ],
   "source": [
    "df.head()"
   ]
  },
  {
   "cell_type": "markdown",
   "id": "eefcf1e0",
   "metadata": {},
   "source": [
    "### Examinamos las columnas disponibles en el DataFrame"
   ]
  },
  {
   "cell_type": "code",
   "execution_count": 6,
   "id": "f8e8f22e",
   "metadata": {},
   "outputs": [
    {
     "data": {
      "text/plain": [
       "Index(['Fecha', 'Precio_Apertura', 'Precio_Máximo', 'Precio_Mínimo',\n",
       "       'Precio_Cierre', 'Volumen'],\n",
       "      dtype='object')"
      ]
     },
     "execution_count": 6,
     "metadata": {},
     "output_type": "execute_result"
    }
   ],
   "source": [
    "df.columns"
   ]
  },
  {
   "cell_type": "markdown",
   "id": "4d63370c",
   "metadata": {},
   "source": [
    "### Cambiamos nombres de columnas"
   ]
  },
  {
   "cell_type": "code",
   "execution_count": 7,
   "id": "40aa4c15",
   "metadata": {},
   "outputs": [
    {
     "name": "stdout",
     "output_type": "stream",
     "text": [
      "Index(['Fecha', 'Precio_Apertura', 'Precio_Máximo', 'Precio_Mínimo',\n",
      "       'Precio_Cierre', 'Volumen'],\n",
      "      dtype='object')\n"
     ]
    }
   ],
   "source": [
    "nuevos_nombres = {\n",
    "    \"Date\":\"Fecha\",\n",
    "    \"Open\": \"Precio_Apertura\",\n",
    "    \"High\":\"Precio_Máximo\",\n",
    "    \"Low\": \"Precio_Mínimo\",\n",
    "    \"Close\": \"Precio_Cierre\",\n",
    "    \"Volume\": \"Volumen\"}\n",
    "\n",
    "# Renombrar las columnas en el DataFrame\n",
    "df.rename(columns=nuevos_nombres, inplace=True)\n",
    "\n",
    "# Verificar los nuevos nombres de las columnas\n",
    "print(df.columns)"
   ]
  },
  {
   "cell_type": "markdown",
   "id": "9d9926cf",
   "metadata": {},
   "source": [
    "### Verificamos que se realizo el cambio de nombres de las columnas"
   ]
  },
  {
   "cell_type": "code",
   "execution_count": 8,
   "id": "50c57d25",
   "metadata": {},
   "outputs": [
    {
     "name": "stdout",
     "output_type": "stream",
     "text": [
      "        Fecha  Precio_Apertura  Precio_Máximo  Precio_Mínimo  Precio_Cierre  \\\n",
      "0     21/3/16        413417999      413417999      410381012      413307007   \n",
      "1     22/3/16        413131989      418375000      412531006      418088989   \n",
      "2     23/3/16        418161011      419268005      417364014      418040985   \n",
      "3     24/3/16        418424011      418679993      415485992      416394012   \n",
      "4     25/3/16        416507996      418079987      415558014      417177002   \n",
      "...       ...              ...            ...            ...            ...   \n",
      "2855  16/1/24      42499335938    43566273438    42085996094    43154945313   \n",
      "2856  17/1/24      43132101563    43189890625    42189308594    42742652344   \n",
      "2857  18/1/24      42742312500    42876347656    40631171875    41262058594   \n",
      "2858  19/1/24      41278460938    42134160156    40297457031    41618406250   \n",
      "2859  21/1/24      41671488281    41693160156    41615140625    41623695313   \n",
      "\n",
      "          Volumen  \n",
      "0        61655400  \n",
      "1        66813300  \n",
      "2        61444200  \n",
      "3        68346704  \n",
      "4        52560000  \n",
      "...           ...  \n",
      "2855  24062872740  \n",
      "2856  20851232595  \n",
      "2857  25218357242  \n",
      "2858  25752407154  \n",
      "2859  11274039296  \n",
      "\n",
      "[2860 rows x 6 columns]\n"
     ]
    }
   ],
   "source": [
    "print(df)"
   ]
  },
  {
   "cell_type": "markdown",
   "id": "5d67a4a7",
   "metadata": {},
   "source": [
    "### Dividir los datos en características (X) y etiquetas (y), Características (Apertura, Máximo, Mínimo, Volumen, etc.)"
   ]
  },
  {
   "cell_type": "code",
   "execution_count": 10,
   "id": "2ac9ad65",
   "metadata": {},
   "outputs": [],
   "source": [
    "X = df.drop(\"Precio_Cierre\", axis=1)  # Características (Apertura, Máximo, Mínimo, Volumen, etc.)\n",
    "y = df[\"Precio_Cierre\"]  # Etiquetas (Cierre)\n",
    "\n"
   ]
  },
  {
   "cell_type": "markdown",
   "id": "42d8003c",
   "metadata": {},
   "source": [
    "### Dividir los datos en conjuntos de entrenamiento y prueba"
   ]
  },
  {
   "cell_type": "code",
   "execution_count": 11,
   "id": "bb3cf6aa",
   "metadata": {},
   "outputs": [],
   "source": [
    "X_train, X_test, y_train, y_test = train_test_split(X, y, test_size=0.2, random_state=42)"
   ]
  },
  {
   "cell_type": "code",
   "execution_count": 12,
   "id": "4727fb7a",
   "metadata": {},
   "outputs": [],
   "source": [
    "model = LinearRegression()"
   ]
  }
 ],
 "metadata": {
  "kernelspec": {
   "display_name": "Python 3 (ipykernel)",
   "language": "python",
   "name": "python3"
  },
  "language_info": {
   "codemirror_mode": {
    "name": "ipython",
    "version": 3
   },
   "file_extension": ".py",
   "mimetype": "text/x-python",
   "name": "python",
   "nbconvert_exporter": "python",
   "pygments_lexer": "ipython3",
   "version": "3.11.7"
  }
 },
 "nbformat": 4,
 "nbformat_minor": 5
}
